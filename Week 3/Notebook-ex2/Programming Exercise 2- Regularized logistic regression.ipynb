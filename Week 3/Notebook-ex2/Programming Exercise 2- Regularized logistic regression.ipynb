{
 "cells": [
  {
   "cell_type": "markdown",
   "metadata": {},
   "source": [
    "# Programming Exercise 2- Regularized logistic regression"
   ]
  },
  {
   "cell_type": "code",
   "execution_count": 1,
   "metadata": {},
   "outputs": [],
   "source": [
    "# imports here\n",
    "\n",
    "import numpy as np\n",
    "import pandas as pd\n",
    "\n",
    "import matplotlib.pyplot as plt\n",
    "%matplotlib inline"
   ]
  },
  {
   "cell_type": "markdown",
   "metadata": {},
   "source": [
    "## Regularized logistic regression\n",
    "In this part of the exercise, you will implement regularized logistic regression to predict whether microchips from a fabrication plant passes quality assurance (QA). During QA, each microchip goes through various tests to ensure it is functioning correctly.\n",
    "\n",
    "Suppose you are the product manager of the factory and you have the test results for some microchips on two different tests. From these two tests, you would like to determine whether the microchips should be accepted or\n",
    "rejected. To help you make the decision, you have a dataset of test results on past microchips, from which you can build a logistic regression model."
   ]
  },
  {
   "cell_type": "markdown",
   "metadata": {},
   "source": [
    "### Visualizing the data"
   ]
  },
  {
   "cell_type": "code",
   "execution_count": 2,
   "metadata": {},
   "outputs": [
    {
     "data": {
      "image/png": "[encoded data removed]",
      "text/plain": [
       "<Figure size 432x288 with 1 Axes>"
      ]
     },
     "metadata": {
      "needs_background": "light"
     },
     "output_type": "display_data"
    }
   ],
   "source": [
    "def plot_data():\n",
    "    from numpy import loadtxt, where\n",
    "    from pylab import scatter, show, legend, xlabel, ylabel\n",
    "\n",
    "    #load the dataset\n",
    "    data = loadtxt('ex2data2.txt', delimiter=',')\n",
    "\n",
    "    X = data[:, 0:2]\n",
    "    y = data[:, 2]\n",
    "\n",
    "    pos = where(y == 1)\n",
    "    neg = where(y == 0)\n",
    "    scatter(X[pos, 0], X[pos, 1], marker='+', c='r')\n",
    "    scatter(X[neg, 0], X[neg, 1], marker='o', c='b')\n",
    "    xlabel('Microchip Test 1')\n",
    "    ylabel('Microchip Test 1')\n",
    "    legend(['y = 1', 'y = 0'])\n",
    "    plt.title('Scatter plot of training data')\n",
    "    show()\n",
    "    \n",
    "plot_data()"
   ]
  },
  {
   "cell_type": "markdown",
   "metadata": {},
   "source": [
    "### Feature mapping\n",
    "One way to fit the data better is to create more features from each data point. In the function mapFeature, we will map the features into all polynomial terms of $x_{1}$ and $x_{2}$ up to the sixth power.\n",
    "\n",
    "As a result of this mapping, our vector of two features (the scores on two QA tests) has been transformed into a 28-dimensional vector. A logistic regression classifier trained on this higher-dimension feature vector will have a more complex decision boundary and will appear nonlinear when drawn in our 2-dimensional plot. While the feature mapping allows us to build a more expressive classifier, it also more susceptible to overfitting. In the next parts of the exercise, you will implement regularized logistic regression to fit the data and also see for\n",
    "yourself how regularization can help combat the overfitting problem."
   ]
  },
  {
   "cell_type": "code",
   "execution_count": 3,
   "metadata": {},
   "outputs": [
    {
     "data": {
      "text/html": [
       "<div>\n",
       "<style scoped>\n",
       "    .dataframe tbody tr th:only-of-type {\n",
       "        vertical-align: middle;\n",
       "    }\n",
       "\n",
       "    .dataframe tbody tr th {\n",
       "        vertical-align: top;\n",
       "    }\n",
       "\n",
       "    .dataframe thead th {\n",
       "        text-align: right;\n",
       "    }\n",
       "</style>\n",
       "<table border=\"1\" class=\"dataframe\">\n",
       "  <thead>\n",
       "    <tr style=\"text-align: right;\">\n",
       "      <th></th>\n",
       "      <th>X1</th>\n",
       "      <th>X2</th>\n",
       "      <th>y</th>\n",
       "    </tr>\n",
       "  </thead>\n",
       "  <tbody>\n",
       "    <tr>\n",
       "      <th>0</th>\n",
       "      <td>0.051267</td>\n",
       "      <td>0.69956</td>\n",
       "      <td>1</td>\n",
       "    </tr>\n",
       "    <tr>\n",
       "      <th>1</th>\n",
       "      <td>-0.092742</td>\n",
       "      <td>0.68494</td>\n",
       "      <td>1</td>\n",
       "    </tr>\n",
       "    <tr>\n",
       "      <th>2</th>\n",
       "      <td>-0.213710</td>\n",
       "      <td>0.69225</td>\n",
       "      <td>1</td>\n",
       "    </tr>\n",
       "    <tr>\n",
       "      <th>3</th>\n",
       "      <td>-0.375000</td>\n",
       "      <td>0.50219</td>\n",
       "      <td>1</td>\n",
       "    </tr>\n",
       "    <tr>\n",
       "      <th>4</th>\n",
       "      <td>-0.513250</td>\n",
       "      <td>0.46564</td>\n",
       "      <td>1</td>\n",
       "    </tr>\n",
       "  </tbody>\n",
       "</table>\n",
       "</div>"
      ],
      "text/plain": [
       "         X1       X2  y\n",
       "0  0.051267  0.69956  1\n",
       "1 -0.092742  0.68494  1\n",
       "2 -0.213710  0.69225  1\n",
       "3 -0.375000  0.50219  1\n",
       "4 -0.513250  0.46564  1"
      ]
     },
     "execution_count": 3,
     "metadata": {},
     "output_type": "execute_result"
    }
   ],
   "source": [
    "data = pd.read_csv(\"ex2data2.txt\", header=None, names=['X1', 'X2', 'y'])\n",
    "data.head()"
   ]
  },
  {
   "cell_type": "code",
   "execution_count": 4,
   "metadata": {},
   "outputs": [],
   "source": [
    "X = data[['X1', 'X2']]\n",
    "y = data['y']"
   ]
  },
  {
   "cell_type": "code",
   "execution_count": 5,
   "metadata": {},
   "outputs": [
    {
     "data": {
      "text/html": [
       "<div>\n",
       "<style scoped>\n",
       "    .dataframe tbody tr th:only-of-type {\n",
       "        vertical-align: middle;\n",
       "    }\n",
       "\n",
       "    .dataframe tbody tr th {\n",
       "        vertical-align: top;\n",
       "    }\n",
       "\n",
       "    .dataframe thead th {\n",
       "        text-align: right;\n",
       "    }\n",
       "</style>\n",
       "<table border=\"1\" class=\"dataframe\">\n",
       "  <thead>\n",
       "    <tr style=\"text-align: right;\">\n",
       "      <th></th>\n",
       "      <th>X1</th>\n",
       "      <th>X2</th>\n",
       "    </tr>\n",
       "  </thead>\n",
       "  <tbody>\n",
       "    <tr>\n",
       "      <th>0</th>\n",
       "      <td>0.051267</td>\n",
       "      <td>0.69956</td>\n",
       "    </tr>\n",
       "    <tr>\n",
       "      <th>1</th>\n",
       "      <td>-0.092742</td>\n",
       "      <td>0.68494</td>\n",
       "    </tr>\n",
       "    <tr>\n",
       "      <th>2</th>\n",
       "      <td>-0.213710</td>\n",
       "      <td>0.69225</td>\n",
       "    </tr>\n",
       "    <tr>\n",
       "      <th>3</th>\n",
       "      <td>-0.375000</td>\n",
       "      <td>0.50219</td>\n",
       "    </tr>\n",
       "    <tr>\n",
       "      <th>4</th>\n",
       "      <td>-0.513250</td>\n",
       "      <td>0.46564</td>\n",
       "    </tr>\n",
       "  </tbody>\n",
       "</table>\n",
       "</div>"
      ],
      "text/plain": [
       "         X1       X2\n",
       "0  0.051267  0.69956\n",
       "1 -0.092742  0.68494\n",
       "2 -0.213710  0.69225\n",
       "3 -0.375000  0.50219\n",
       "4 -0.513250  0.46564"
      ]
     },
     "execution_count": 5,
     "metadata": {},
     "output_type": "execute_result"
    }
   ],
   "source": [
    "X.head()"
   ]
  },
  {
   "cell_type": "code",
   "execution_count": 6,
   "metadata": {},
   "outputs": [],
   "source": [
    "def mapFeature(x1,x2,degree):\n",
    "    \"\"\"\n",
    "    take in numpy array of x1 and x2, return all polynomial terms up to the given degree\n",
    "    \"\"\"\n",
    "    out = np.ones(len(x1)).reshape(len(x1), 1)\n",
    "    for i in range(1, degree+1):\n",
    "        for j in range(0, i+1):\n",
    "            terms = (x1**(i-j) * x2**j).reshape(len(x1), 1)\n",
    "            out = np.hstack((out,terms))\n",
    "    return out\n",
    "\n",
    "X = mapFeature(X.X1.values, X.X2.values, 6)"
   ]
  },
  {
   "cell_type": "code",
   "execution_count": 7,
   "metadata": {},
   "outputs": [
    {
     "data": {
      "text/plain": [
       "(118, 28)"
      ]
     },
     "execution_count": 7,
     "metadata": {},
     "output_type": "execute_result"
    }
   ],
   "source": [
    "X.shape"
   ]
  },
  {
   "cell_type": "code",
   "execution_count": 8,
   "metadata": {},
   "outputs": [
    {
     "data": {
      "text/plain": [
       "(118, 1)"
      ]
     },
     "execution_count": 8,
     "metadata": {},
     "output_type": "execute_result"
    }
   ],
   "source": [
    "y = y.values.reshape((y.shape[0], 1))\n",
    "y.shape"
   ]
  },
  {
   "cell_type": "markdown",
   "metadata": {},
   "source": [
    "## Cost function and gradient\n",
    "Now you will implement code to compute the cost function and gradient for regularized logistic regression.\n",
    "\n",
    "Recall that the regularized cost function in logistic regression is $J(\\theta) = \\frac{1}{m}\\sum_{i=1}^{m}[-y^{(i)}log(h_{\\theta}(x^{(i)})) - (1-y^{(i)})log(1-h_{\\theta}(x^{(i)}))] + \\frac{\\lambda }{2m}\\sum_{j=1}^{n}\\theta _{j}^{2}$ . Note that you should not regularize the parameter $\\theta _{0}$ . \n",
    "\n",
    "The gradient of the cost function is a vector where the j th element is defined as follows: $\\frac{\\partial J(\\theta )}{\\partial \\theta _{j}} = \\frac{1}{m}\\sum_{i=1}^{m}(h_{\\theta }(x^{(i)})-y^{(i)})x_{j}^{(i)}$ for j = 0 and $\\frac{\\partial J(\\theta )}{\\partial \\theta _{j}} = (\\frac{1}{m}\\sum_{i=1}^{m}(h_{\\theta }(x^{(i)})-y^{(i)})x_{j}^{(i)}) + \\frac{\\lambda }{m}\\theta _{j}$ for j >= 1"
   ]
  },
  {
   "cell_type": "code",
   "execution_count": 9,
   "metadata": {},
   "outputs": [
    {
     "data": {
      "text/plain": [
       "0.5"
      ]
     },
     "execution_count": 9,
     "metadata": {},
     "output_type": "execute_result"
    }
   ],
   "source": [
    "def sigmoid(z):\n",
    "    return 1 / (1 + np.exp(-z))\n",
    "\n",
    "sigmoid(0)"
   ]
  },
  {
   "cell_type": "code",
   "execution_count": 10,
   "metadata": {},
   "outputs": [],
   "source": [
    "def costFunctionReg(theta, X, y, Lambda):\n",
    "    m = y.shape[0]\n",
    "    \n",
    "    h_theta = sigmoid(np.matmul(X, theta))\n",
    "    error = np.matmul(y.T, np.log(h_theta)) + np.matmul((1-y).T, np.log(1 - h_theta))\n",
    "    J = (-error / m) + (Lambda/(2*m)) * np.matmul(theta[1:].T, theta[1:])\n",
    "    \n",
    "    theta_ = theta\n",
    "    theta_[0] = 0\n",
    "\n",
    "    grad = (np.matmul(X.T, (h_theta-y)) / m) + ((Lambda/m) * theta_)\n",
    "    \n",
    "    return (J, grad)"
   ]
  },
  {
   "cell_type": "code",
   "execution_count": 11,
   "metadata": {},
   "outputs": [
    {
     "data": {
      "text/plain": [
       "(28, 1)"
      ]
     },
     "execution_count": 11,
     "metadata": {},
     "output_type": "execute_result"
    }
   ],
   "source": [
    "initial_theta = np.zeros((X.shape[1], 1))\n",
    "# Lambda = 1\n",
    "initial_theta.shape"
   ]
  },
  {
   "cell_type": "code",
   "execution_count": 12,
   "metadata": {},
   "outputs": [
    {
     "name": "stdout",
     "output_type": "stream",
     "text": [
      "[[0.69314718]]\n",
      "[[8.47457627e-03]\n",
      " [1.87880932e-02]\n",
      " [7.77711864e-05]\n",
      " [5.03446395e-02]\n",
      " [1.15013308e-02]\n",
      " [3.76648474e-02]\n",
      " [1.83559872e-02]\n",
      " [7.32393391e-03]\n",
      " [8.19244468e-03]\n",
      " [2.34764889e-02]\n",
      " [3.93486234e-02]\n",
      " [2.23923907e-03]\n",
      " [1.28600503e-02]\n",
      " [3.09593720e-03]\n",
      " [3.93028171e-02]\n",
      " [1.99707467e-02]\n",
      " [4.32983232e-03]\n",
      " [3.38643902e-03]\n",
      " [5.83822078e-03]\n",
      " [4.47629067e-03]\n",
      " [3.10079849e-02]\n",
      " [3.10312442e-02]\n",
      " [1.09740238e-03]\n",
      " [6.31570797e-03]\n",
      " [4.08503006e-04]\n",
      " [7.26504316e-03]\n",
      " [1.37646175e-03]\n",
      " [3.87936363e-02]]\n"
     ]
    }
   ],
   "source": [
    "cost, grad = costFunctionReg(initial_theta, X, y, Lambda=1)\n",
    "print(cost)\n",
    "print(grad)"
   ]
  },
  {
   "cell_type": "markdown",
   "metadata": {},
   "source": [
    "### Learning parameters"
   ]
  },
  {
   "cell_type": "code",
   "execution_count": 13,
   "metadata": {},
   "outputs": [],
   "source": [
    "def gradientDescent(X, y, theta, alpha, num_iters, Lambda):\n",
    "    \"\"\"\n",
    "    Take in numpy array X, y and theta and update theta by taking num_iters gradient steps\n",
    "    with learning rate of alpha\n",
    "    \n",
    "    return theta and the list of the cost of theta during each iteration\n",
    "    \"\"\"\n",
    "    \n",
    "    m = y.shape[0]\n",
    "    J_history = np.zeros((num_iters, 1))\n",
    "    \n",
    "    for i in range(num_iters):\n",
    "        cost, grad = costFunctionReg(theta, X, y, Lambda)\n",
    "        theta = theta - (alpha * grad)\n",
    "        J_history[i] = cost\n",
    "    \n",
    "    return (theta, J_history)\n",
    "\n",
    "num_iters = 100000\n",
    "\n",
    "theta, J_history = gradientDescent(X, y, initial_theta, 1, num_iters, 1)"
   ]
  },
  {
   "cell_type": "code",
   "execution_count": 14,
   "metadata": {},
   "outputs": [
    {
     "name": "stdout",
     "output_type": "stream",
     "text": [
      "(100000, 1)\n",
      "(100000, 1)\n"
     ]
    }
   ],
   "source": [
    "x_values = np.array(range(1, num_iters+1)).reshape((num_iters, 1))\n",
    "print(x_values.shape)\n",
    "print(J_history.shape)"
   ]
  },
  {
   "cell_type": "code",
   "execution_count": 15,
   "metadata": {},
   "outputs": [
    {
     "data": {
      "image/png": "[encoded data removed]",
      "text/plain": [
       "<Figure size 432x288 with 1 Axes>"
      ]
     },
     "metadata": {
      "needs_background": "light"
     },
     "output_type": "display_data"
    }
   ],
   "source": [
    "plt.plot(x_values, J_history)\n",
    "plt.xlabel(\"Iteration\")\n",
    "plt.ylabel(\"$J(\\Theta)$\")\n",
    "plt.title(\"Cost function using Gradient Descent\")\n",
    "plt.show()"
   ]
  },
  {
   "cell_type": "markdown",
   "metadata": {},
   "source": [
    "### Evaluating logistic regression"
   ]
  },
  {
   "cell_type": "code",
   "execution_count": 16,
   "metadata": {},
   "outputs": [
    {
     "name": "stdout",
     "output_type": "stream",
     "text": [
      "Train Accuracy: 0.864406779661 %\n"
     ]
    }
   ],
   "source": [
    "def classifierPredict(theta, X):\n",
    "    \"\"\"\n",
    "    take in numpy array of theta and X and predict the class \n",
    "    \"\"\"\n",
    "    predictions = np.matmul(X, theta)\n",
    "    \n",
    "    return predictions > 0\n",
    "\n",
    "p = classifierPredict(theta, X)\n",
    "m = y.shape[0]\n",
    "print(\"Train Accuracy: {} %\".format(float(sum(p==y)) / m))"
   ]
  },
  {
   "cell_type": "markdown",
   "metadata": {},
   "source": [
    "### Plotting the decision boundary"
   ]
  },
  {
   "cell_type": "code",
   "execution_count": 17,
   "metadata": {},
   "outputs": [
    {
     "data": {
      "image/png": "[encoded data removed]",
      "text/plain": [
       "<Figure size 432x288 with 1 Axes>"
      ]
     },
     "metadata": {
      "needs_background": "light"
     },
     "output_type": "display_data"
    }
   ],
   "source": [
    "def plot_decision_boundary(theta):\n",
    "    from numpy import loadtxt, where\n",
    "    from pylab import scatter, show, legend, xlabel, ylabel\n",
    "\n",
    "    #load the dataset\n",
    "    data = loadtxt('ex2data2.txt', delimiter=',')\n",
    "\n",
    "    X = data[:, 0:2]\n",
    "    y = data[:, 2]\n",
    "\n",
    "    pos = where(y == 1)\n",
    "    neg = where(y == 0)\n",
    "    scatter(X[pos, 0], X[pos, 1], marker='+', c='r')\n",
    "    scatter(X[neg, 0], X[neg, 1], marker='o', c='b')\n",
    "    xlabel('Microchip Test 1')\n",
    "    ylabel('Microchip Test 1')\n",
    "    legend(['y = 1', 'y = 0'])\n",
    "    plt.title('Scatter plot of training data')\n",
    "    \n",
    "    def mapFeaturePlot(x1,x2,degree):\n",
    "        \"\"\"\n",
    "        take in numpy array of x1 and x2, return all polynomial terms up to the given degree\n",
    "        \"\"\"\n",
    "        out = np.ones(1)\n",
    "        for i in range(1, degree+1):\n",
    "            for j in range(i+1):\n",
    "                terms = (x1**(i-j) * x2**j)\n",
    "                out = np.hstack((out,terms))\n",
    "        return out\n",
    "\n",
    "    u_vals = np.linspace(-1, 1.5, 50)\n",
    "    v_vals= np.linspace(-1, 1.5, 50)\n",
    "    z = np.zeros((len(u_vals), len(v_vals)))\n",
    "    for i in range(len(u_vals)):\n",
    "        for j in range(len(v_vals)):\n",
    "            z[i, j] = np.matmul(mapFeaturePlot(u_vals[i], v_vals[j], 6), theta)\n",
    "\n",
    "    plt.contour(u_vals, v_vals, z.T, 0)\n",
    "    \n",
    "    show()\n",
    "    \n",
    "plot_decision_boundary(theta)"
   ]
  },
  {
   "cell_type": "markdown",
   "metadata": {},
   "source": [
    "### Checking for different $\\lambda$"
   ]
  },
  {
   "cell_type": "code",
   "execution_count": 18,
   "metadata": {},
   "outputs": [],
   "source": [
    "def tuning(X, y, alpha, Lambda):\n",
    "    \n",
    "    num_iters = 100000\n",
    "    initial_theta = np.zeros((X.shape[1], 1))\n",
    "    theta, J_history = gradientDescent(X, y, initial_theta, alpha, num_iters, Lambda)\n",
    "    \n",
    "    x_values = np.array(range(1, num_iters+1)).reshape((num_iters, 1))\n",
    "    plt.plot(x_values, J_history)\n",
    "    plt.xlabel(\"Iteration\")\n",
    "    plt.ylabel(\"$J(\\Theta)$\")\n",
    "    plt.title(\"Cost function using Gradient Descent\")\n",
    "    plt.show()\n",
    "    \n",
    "    p = classifierPredict(theta, X)\n",
    "    m = y.shape[0]\n",
    "    print(\"Train Accuracy: {} %\".format(float(sum(p==y)) / m))\n",
    "    \n",
    "    plot_decision_boundary(theta)"
   ]
  },
  {
   "cell_type": "code",
   "execution_count": null,
   "metadata": {},
   "outputs": [],
   "source": []
  }
 ],
 "metadata": {
  "kernelspec": {
   "display_name": "Python 3",
   "language": "python",
   "name": "python3"
  },
  "language_info": {
   "codemirror_mode": {
    "name": "ipython",
    "version": 2
   },
   "file_extension": ".py",
   "mimetype": "text/x-python",
   "name": "python",
   "nbconvert_exporter": "python",
   "pygments_lexer": "ipython2",
   "version": "2.7.15"
  }
 },
 "nbformat": 4,
 "nbformat_minor": 2
}
